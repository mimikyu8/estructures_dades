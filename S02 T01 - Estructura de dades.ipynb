{
 "cells": [
  {
   "cell_type": "markdown",
   "id": "76f76c5d",
   "metadata": {},
   "source": [
    "# Exercici 1"
   ]
  },
  {
   "cell_type": "markdown",
   "id": "99b96b38",
   "metadata": {},
   "source": [
    "Crea una llista que agrupi els mesos de l’any en trimestres (1T: Gener, Febrer i Març, 2T: Abril, Maig, Juny...), és a dir, una llista amb 4 llistes dins."
   ]
  },
  {
   "cell_type": "code",
   "execution_count": null,
   "id": "d827a391",
   "metadata": {},
   "outputs": [],
   "source": [
    "import numpy as np"
   ]
  },
  {
   "cell_type": "code",
   "execution_count": null,
   "id": "9e3f506c",
   "metadata": {},
   "outputs": [],
   "source": [
    "array_any = np.array([[\"Gener\", \"Febrer\", \"Març\"], [\"Abril\", \"Maig\", \"Juny\"], [\"Juliol\", \"Agost\", \"Septembre\"], \n",
    "                      [\"Octubre\", \"Novembre\", \"Desembre\"]])"
   ]
  },
  {
   "cell_type": "markdown",
   "id": "332b1066",
   "metadata": {},
   "source": [
    "# Exercici 2"
   ]
  },
  {
   "cell_type": "markdown",
   "id": "8fa764d0",
   "metadata": {},
   "source": [
    "Crea un codi que et permeti accedir a:\n",
    "\n",
    "* El segon mes del primer trimestre\n",
    "* Els mesos del primer trimestre\n",
    "* Setembre i octubre"
   ]
  },
  {
   "cell_type": "code",
   "execution_count": null,
   "id": "4dfcbd95",
   "metadata": {},
   "outputs": [],
   "source": [
    "print(array_any[0, 1])\n",
    "\n",
    "print(array_any[0])\n",
    "\n",
    "print(array_any[[2, 3], [2, 0]])"
   ]
  },
  {
   "cell_type": "markdown",
   "id": "9ec3a010",
   "metadata": {},
   "source": [
    "# Exercici 3"
   ]
  },
  {
   "cell_type": "markdown",
   "id": "a3c89740",
   "metadata": {},
   "source": [
    "Crea una llista amb nombres desordenats i respon a les següents preguntes:\n",
    "\n",
    "* Quants números hi ha?\n",
    "* Quantes vegades apareix el número 3\n",
    "* Quantes vegades apareixen els nombres 3 i 4?\n",
    "* Quin és el número més gran?\n",
    "* Quins són els 3 números més petits?\n",
    "* Quin és el rang d’aquesta llista?"
   ]
  },
  {
   "cell_type": "code",
   "execution_count": null,
   "id": "8fc8ae26",
   "metadata": {},
   "outputs": [],
   "source": [
    "a = np.array([5, 8, 4, 2, 1, 4, 3, 1, 4])\n",
    "\n",
    "print(a.size)\n",
    "\n",
    "print(np.count_nonzero(a == 3))\n",
    "\n",
    "print(np.count_nonzero(a == 3) + np.count_nonzero(a == 4))\n",
    "\n",
    "print(a.max())\n",
    "\n",
    "a.sort()\n",
    "print(a[:3])\n",
    "\n",
    "print(a[0], a[-1])"
   ]
  },
  {
   "cell_type": "markdown",
   "id": "4d6e9c7b",
   "metadata": {},
   "source": [
    "# Exercici 4"
   ]
  },
  {
   "cell_type": "markdown",
   "id": "439555bc",
   "metadata": {},
   "source": [
    "Crea un diccionari de la següent forma i respon a les preguntes:\n",
    "\n",
    "compra = { \"Pomes\" : {\"Qty\": 5, \"€\": 0.42}, \"Peres\" : {\"Qty\": 3, \"€\": 0.66} }\n",
    "\n",
    "* Afegeix alguna fruita més\n",
    "* Quant han costat les peres en total?\n",
    "* Quantes fruites hem comprat en total?\n",
    "* Quina és la fruita més cara?"
   ]
  },
  {
   "cell_type": "code",
   "execution_count": null,
   "id": "b6ac2858",
   "metadata": {},
   "outputs": [],
   "source": [
    "compra = { \n",
    "    \"Pomes\" : {\n",
    "        \"Qty\": 5, \"€\": 0.42\n",
    "    }, \n",
    "    \"Peres\" : {\n",
    "        \"Qty\": 3, \"€\": 0.66\n",
    "    } \n",
    "}\n",
    "compra[\"Plàtans\"] = {\"Qty\": 4, \"€\": 0.50}\n",
    "\n",
    "print((compra.get(\"Peres\").get(\"Qty\")) * (compra.get(\"Peres\").get(\"€\")))\n",
    "\n",
    "pomes = (compra.get(\"Pomes\").get(\"Qty\")) * (compra.get(\"Pomes\").get(\"€\"))\n",
    "peres = (compra.get(\"Peres\").get(\"Qty\")) * (compra.get(\"Peres\").get(\"€\"))\n",
    "platans = (compra.get(\"Plàtans\").get(\"Qty\")) * (compra.get(\"Plàtans\").get(\"€\"))\n",
    "print(pomes + peres + platans)\n",
    "\n",
    "x = 0\n",
    "for i in compra:\n",
    "    if x < compra.get(i).get(\"€\"):\n",
    "        x =  compra.get(i).get(\"€\")\n",
    "for j in compra.values():\n",
    "    if x in j.values():\n",
    "        print(list(compra.keys())[list(compra.values()).index(j)])"
   ]
  },
  {
   "cell_type": "code",
   "execution_count": null,
   "id": "2e74b625",
   "metadata": {},
   "outputs": [],
   "source": []
  },
  {
   "cell_type": "code",
   "execution_count": null,
   "id": "f7820033",
   "metadata": {},
   "outputs": [],
   "source": []
  }
 ],
 "metadata": {
  "kernelspec": {
   "display_name": "Python 3 (ipykernel)",
   "language": "python",
   "name": "python3"
  },
  "language_info": {
   "codemirror_mode": {
    "name": "ipython",
    "version": 3
   },
   "file_extension": ".py",
   "mimetype": "text/x-python",
   "name": "python",
   "nbconvert_exporter": "python",
   "pygments_lexer": "ipython3",
   "version": "3.9.7"
  },
  "toc": {
   "base_numbering": 1,
   "nav_menu": {},
   "number_sections": true,
   "sideBar": true,
   "skip_h1_title": false,
   "title_cell": "Table of Contents",
   "title_sidebar": "Contents",
   "toc_cell": false,
   "toc_position": {},
   "toc_section_display": true,
   "toc_window_display": false
  }
 },
 "nbformat": 4,
 "nbformat_minor": 5
}
